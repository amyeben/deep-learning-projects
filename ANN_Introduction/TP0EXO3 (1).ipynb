{
 "cells": [
  {
   "cell_type": "markdown",
   "id": "b5ab9353-0ab3-4357-a8e7-0431f7216565",
   "metadata": {},
   "source": [
    "# TP 3 : Introduction aux Réseaux de Neurones Artificiels (ANN)\n",
    "\n",
    "`Amy EBEN SANG KOTTA`\n"
   ]
  },
  {
   "cell_type": "markdown",
   "id": "738472d4-c094-405b-bceb-73bdbca49232",
   "metadata": {},
   "source": [
    "### Etapes : \n",
    "\n",
    "Étape 1 : Importer les bibliothèques nécessaires"
   ]
  },
  {
   "cell_type": "code",
   "execution_count": 1,
   "id": "9a7dd90a-8df2-4450-8973-84675b172a00",
   "metadata": {},
   "outputs": [
    {
     "name": "stderr",
     "output_type": "stream",
     "text": [
      "2024-09-25 16:11:22.796649: I tensorflow/core/platform/cpu_feature_guard.cc:182] This TensorFlow binary is optimized to use available CPU instructions in performance-critical operations.\n",
      "To enable the following instructions: AVX2 FMA, in other operations, rebuild TensorFlow with the appropriate compiler flags.\n"
     ]
    }
   ],
   "source": [
    "import ssl\n",
    "import urllib\n",
    "from keras.datasets import mnist\n",
    "from keras.utils import to_categorical\n",
    "from keras.models import Sequential\n",
    "from keras.layers import Dense, Flatten\n",
    "from keras.optimizers import Adam\n",
    "import matplotlib.pyplot as plt"
   ]
  },
  {
   "cell_type": "markdown",
   "id": "1c9f9715-4fc1-4c5e-8d9c-66e3f2ea8d22",
   "metadata": {},
   "source": [
    "Étape 2 : Créer un contexte SSL qui ne vérifie pas les certificats\n",
    "\n",
    "Je désactive la vérification SSL car il y a un problème de certificat sur mon système."
   ]
  },
  {
   "cell_type": "code",
   "execution_count": 2,
   "id": "9e436d8b-a938-4317-b3e9-983088e1eaf7",
   "metadata": {},
   "outputs": [],
   "source": [
    "ssl._create_default_https_context = ssl._create_unverified_context"
   ]
  },
  {
   "cell_type": "markdown",
   "id": "8c2b3afc-a298-459d-9072-3b563fb04920",
   "metadata": {},
   "source": [
    "Étape 3 : Charger le dataset MNIST\n",
    "\n",
    "#Je charge les données d'entraînement et de test du dataset MNIST."
   ]
  },
  {
   "cell_type": "code",
   "execution_count": 3,
   "id": "f1ef6000-8eaf-428a-82e2-597f388c99fd",
   "metadata": {},
   "outputs": [],
   "source": [
    "(x_train, y_train), (x_test, y_test) = mnist.load_data()"
   ]
  },
  {
   "cell_type": "code",
   "execution_count": 4,
   "id": "0f4c854a-8408-4b75-a3ba-eab40a48c85c",
   "metadata": {},
   "outputs": [
    {
     "name": "stdout",
     "output_type": "stream",
     "text": [
      "Nombre d'échantillons dans le jeu d'entraînement : 60000\n",
      "Nombre d'échantillons dans le jeu de test : 10000\n"
     ]
    }
   ],
   "source": [
    "# Vérification des tailles des jeux de données pour s'assurer qu'on a bien 60 000 pour l'entraînement et 10 000 pour le test.\n",
    "print(f\"Nombre d'échantillons dans le jeu d'entraînement : {x_train.shape[0]}\")\n",
    "print(f\"Nombre d'échantillons dans le jeu de test : {x_test.shape[0]}\")"
   ]
  },
  {
   "cell_type": "markdown",
   "id": "6f932139-eee1-48c5-8761-b82775c0c3ec",
   "metadata": {},
   "source": [
    "Étape 4 : Préparation des données\n",
    "\n",
    "Je normalise les images pour que les valeurs des pixels soient entre 0 et 1."
   ]
  },
  {
   "cell_type": "code",
   "execution_count": 5,
   "id": "134c6afd-af06-4526-9478-5a3f1d32e36e",
   "metadata": {},
   "outputs": [],
   "source": [
    "x_train = x_train.astype('float32') / 255\n",
    "x_test = x_test.astype('float32') / 255"
   ]
  },
  {
   "cell_type": "markdown",
   "id": "28135a65-c944-40cc-b986-43b3ba39ce06",
   "metadata": {},
   "source": [
    "Reshape des données pour les adapter à un réseau dense :\n",
    "Je transforme chaque image de 28x28 en un vecteur de 784 valeurs.\n",
    "Le réseau dense attend que chaque entrée soit un vecteur."
   ]
  },
  {
   "cell_type": "code",
   "execution_count": 6,
   "id": "75cb3a36-1b14-4177-8b3e-1d3030e9b62c",
   "metadata": {},
   "outputs": [],
   "source": [
    "x_train = x_train.reshape(-1, 28 * 28)\n",
    "x_test = x_test.reshape(-1, 28 * 28)"
   ]
  },
  {
   "cell_type": "markdown",
   "id": "7e389f9f-a410-4081-b7a7-83e58b975a34",
   "metadata": {},
   "source": [
    "Les étiquettes sont des entiers (0 à 9), donc je les transforme en vecteurs one-hot encodés.\n",
    "Cela permet de convertir les classes en format compatible avec les réseaux de neurones."
   ]
  },
  {
   "cell_type": "code",
   "execution_count": 7,
   "id": "0e6a95db-b293-4969-bf39-833a6263ea5c",
   "metadata": {},
   "outputs": [],
   "source": [
    "y_train = to_categorical(y_train, 10)\n",
    "y_test = to_categorical(y_test, 10)"
   ]
  },
  {
   "cell_type": "markdown",
   "id": "81b05726-e967-49fa-88b1-433f82618909",
   "metadata": {},
   "source": [
    "Étape 5 : Créer le modèle\n",
    "Je construis un modèle séquentiel avec une structure simple pour ce dataset.\n",
    "- Dense(128) : une couche dense avec 128 neurones et une fonction d'activation ReLU.\n",
    "- Dense(10) : la couche de sortie avec 10 neurones (pour les 10 classes), activation softmax pour obtenir des probabilités."
   ]
  },
  {
   "cell_type": "code",
   "execution_count": 8,
   "id": "e1b0c790-881a-4df2-9f34-b1ef2f082bf1",
   "metadata": {},
   "outputs": [],
   "source": [
    "model = Sequential([\n",
    "    Dense(128, activation='relu', input_shape=(28 * 28,)),  # Je spécifie l'entrée avec une image aplatie à 784 valeurs.\n",
    "    Dense(10, activation='softmax')  # J'ajoute une couche de sortie avec 10 neurones pour la classification des 10 chiffres.\n",
    "])"
   ]
  },
  {
   "cell_type": "markdown",
   "id": "ed6fa4f4-d0de-412b-92b1-f2c18babc5fb",
   "metadata": {},
   "source": [
    "Étape 6 : Compiler le modèle\n",
    "Je compile le modèle en utilisant Adam comme optimiseur, avec une fonction de perte entropie croisée pour la classification multi-classe.\n",
    "L'accuracy sera utilisé comme métrique pour évaluer la performance du modèle pendant l'entraînement."
   ]
  },
  {
   "cell_type": "code",
   "execution_count": 9,
   "id": "3b073c5d-a53e-4519-b8a4-e68e11df0581",
   "metadata": {},
   "outputs": [],
   "source": [
    "model.compile(optimizer=Adam(),\n",
    "              loss='categorical_crossentropy',\n",
    "              metrics=['accuracy'])"
   ]
  },
  {
   "cell_type": "markdown",
   "id": "cbe015b0-e533-4e44-9d5b-415beee85a01",
   "metadata": {},
   "source": [
    "Étape 7 : Entraîner le modèle\n",
    "J'entraîne le modèle sur les données d'entraînement (x_train, y_train).\n",
    "Je fixe 5 époques et une taille de batch de 32."
   ]
  },
  {
   "cell_type": "code",
   "execution_count": 10,
   "id": "540a08fa-4a75-40a0-a9b8-90742e989e3b",
   "metadata": {},
   "outputs": [
    {
     "name": "stdout",
     "output_type": "stream",
     "text": [
      "Epoch 1/5\n",
      "1875/1875 [==============================] - 4s 2ms/step - loss: 0.2545 - accuracy: 0.9266 - val_loss: 0.1431 - val_accuracy: 0.9569\n",
      "Epoch 2/5\n",
      "1875/1875 [==============================] - 3s 2ms/step - loss: 0.1124 - accuracy: 0.9661 - val_loss: 0.1025 - val_accuracy: 0.9689\n",
      "Epoch 3/5\n",
      "1875/1875 [==============================] - 3s 2ms/step - loss: 0.0782 - accuracy: 0.9769 - val_loss: 0.0876 - val_accuracy: 0.9732\n",
      "Epoch 4/5\n",
      "1875/1875 [==============================] - 3s 2ms/step - loss: 0.0585 - accuracy: 0.9820 - val_loss: 0.0878 - val_accuracy: 0.9742\n",
      "Epoch 5/5\n",
      "1875/1875 [==============================] - 3s 2ms/step - loss: 0.0462 - accuracy: 0.9854 - val_loss: 0.0791 - val_accuracy: 0.9769\n"
     ]
    }
   ],
   "source": [
    "history = model.fit(x_train, y_train, epochs=5, batch_size=32, validation_data=(x_test, y_test))"
   ]
  },
  {
   "cell_type": "markdown",
   "id": "830215b8-ff09-4237-8ee0-e525f371d350",
   "metadata": {},
   "source": [
    "Étape 8 : Évaluer le modèle sur les données de test\n",
    "Maintenant, je vais évaluer le modèle sur les données de test pour voir comment il se comporte avec des données qu'il n'a pas encore vues."
   ]
  },
  {
   "cell_type": "code",
   "execution_count": 11,
   "id": "dce6d4d2-5fa0-4474-83ae-9949fcad8a58",
   "metadata": {},
   "outputs": [
    {
     "name": "stdout",
     "output_type": "stream",
     "text": [
      "313/313 [==============================] - 0s 1ms/step - loss: 0.0791 - accuracy: 0.9769\n"
     ]
    }
   ],
   "source": [
    "test_loss, test_acc = model.evaluate(x_test, y_test)"
   ]
  },
  {
   "cell_type": "markdown",
   "id": "546dae68-82a4-4886-8b37-339d809e56c5",
   "metadata": {},
   "source": [
    "Je peux afficher l'accuracy finale pour avoir une idée de la performance."
   ]
  },
  {
   "cell_type": "code",
   "execution_count": 12,
   "id": "ef36b096-5153-44f7-b9c1-8ff1ad5cd23d",
   "metadata": {},
   "outputs": [
    {
     "name": "stdout",
     "output_type": "stream",
     "text": [
      "Test accuracy: 97.69%\n"
     ]
    }
   ],
   "source": [
    "print(f\"Test accuracy: {test_acc * 100:.2f}%\")"
   ]
  },
  {
   "cell_type": "markdown",
   "id": "02bbb6c4-2389-4301-862b-2135d3c26c70",
   "metadata": {},
   "source": [
    "Étape 9 : Analyser les résultats\n",
    "Je récupère les détails de l'entraînement (comme la précision et la perte) pour chaque époque à partir de l'objet 'history'.\n",
    "Cela me permet de voir comment le modèle a progressé pendant l'entraînement."
   ]
  },
  {
   "cell_type": "markdown",
   "id": "205b4dd5-a9e4-4d4e-bcde-a37c71eee1d9",
   "metadata": {},
   "source": [
    "Je trace la précision de l'entraînement et de la validation."
   ]
  },
  {
   "cell_type": "code",
   "execution_count": 13,
   "id": "f7693f8d-5d5c-4e6d-a1f9-a6401ac83ebe",
   "metadata": {},
   "outputs": [
    {
     "data": {
      "image/png": "[encoded data removed]",
      "text/plain": [
       "<Figure size 640x480 with 1 Axes>"
      ]
     },
     "metadata": {},
     "output_type": "display_data"
    }
   ],
   "source": [
    "plt.plot(history.history['accuracy'], label='accuracy')\n",
    "plt.plot(history.history['val_accuracy'], label = 'val_accuracy')\n",
    "plt.xlabel('Epoch')\n",
    "plt.ylabel('Accuracy')\n",
    "plt.legend(loc='lower right')\n",
    "plt.show()"
   ]
  },
  {
   "cell_type": "markdown",
   "id": "94686e48-e51f-4995-8c2a-0b5bb6a89f50",
   "metadata": {},
   "source": [
    "Je trace la courbe de perte pour voir si le modèle a bien convergé."
   ]
  },
  {
   "cell_type": "code",
   "execution_count": 14,
   "id": "9f4432c3-ec54-4a90-a818-76cad542b67a",
   "metadata": {},
   "outputs": [
    {
     "data": {
      "image/png": "[encoded data removed]",
      "text/plain": [
       "<Figure size 640x480 with 1 Axes>"
      ]
     },
     "metadata": {},
     "output_type": "display_data"
    }
   ],
   "source": [
    "plt.plot(history.history['loss'], label='loss')\n",
    "plt.plot(history.history['val_loss'], label = 'val_loss')\n",
    "plt.xlabel('Epoch')\n",
    "plt.ylabel('Loss')\n",
    "plt.legend(loc='upper right')\n",
    "plt.show()"
   ]
  }
 ],
 "metadata": {
  "kernelspec": {
   "display_name": "Python 3 (ipykernel)",
   "language": "python",
   "name": "python3"
  },
  "language_info": {
   "codemirror_mode": {
    "name": "ipython",
    "version": 3
   },
   "file_extension": ".py",
   "mimetype": "text/x-python",
   "name": "python",
   "nbconvert_exporter": "python",
   "pygments_lexer": "ipython3",
   "version": "3.10.1"
  }
 },
 "nbformat": 4,
 "nbformat_minor": 5
}
